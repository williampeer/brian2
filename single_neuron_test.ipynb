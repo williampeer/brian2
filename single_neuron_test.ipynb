{
 "cells": [
  {
   "cell_type": "code",
   "execution_count": 14,
   "metadata": {},
   "outputs": [
    {
     "name": "stdout",
     "output_type": "stream",
     "text": [
      "Once deleted, variables cannot be recovered. Proceed (y/[n])? y\n"
     ]
    },
    {
     "data": {
      "image/png": "[encoded data removed]",
      "text/plain": [
       "<Figure size 648x288 with 1 Axes>"
      ]
     },
     "metadata": {
      "needs_background": "light"
     },
     "output_type": "display_data"
    }
   ],
   "source": [
    "%reset\n",
    "\n",
    "from brian2 import *\n",
    "%matplotlib inline\n",
    "    \n",
    "start_scope()\n",
    "\n",
    "tau = 50*ms\n",
    "eqs = '''\n",
    "dv/dt = ((0.04*v**2)/mV + 5*v + 140*mV - u + I*ohm)/tau : volt\n",
    "du/dt = a * (b*v - u)/tau : volt\n",
    "I : amp\n",
    "'''\n",
    "# eqs = '''\n",
    "# dv/dt = ((0.04*v**2) + 5*v + 140 - u + I)/tau : 1\n",
    "# du/dt = a * (b*v - u)/tau : 1\n",
    "# '''\n",
    "\n",
    "# ws = 10;\n",
    "# a = 0.05; b = 0.7  # should produce oscillation around 40Hz\n",
    "a = 0.0275; b = 0.490  # should produce oscillation around 20Hz\n",
    "# a = 0.025; b = 0.1  # should produce oscillation around 5Hz\n",
    "I0 = 0; g0 = 0; v0 = -65*mV; u0 = 0; g0 = 1;\n",
    "I = I0; g = g0; v = v0; u = u0; g = g0;\n",
    "\n",
    "# TODO: add uniform dist. - bio. plaus.\n",
    "c = -65*mV; d = 8*mV\n",
    "# c = -65; d = 8\n",
    "\n",
    "G = NeuronGroup(1, eqs, threshold='v>=30*mV', reset='''v=c; u=u+d''', method='euler')\n",
    "# G = NeuronGroup(1, eqs, threshold='v>=30', reset='''v=c; u=u+d''', method='euler')\n",
    "# TODO: verify with one neuron!\n",
    "\n",
    "statemon = StateMonitor(G[:], 'v', record=True)\n",
    "spikemon = SpikeMonitor(G[:], variables='v')\n",
    "\n",
    "# create function/process where a random neuron is excited by 100 micro-Ampere per ms, and timestep\n",
    "# G.I = 100\n",
    "run_time = 1000\n",
    "run(run_time*ms)\n",
    "\n",
    "\n",
    "# run(100*ms)\n",
    "# create spike plots\n",
    "figure(figsize=(9, 4))\n",
    "for l in range(11):\n",
    "    axvline(l*int(run_time/10), ls='--', c='k')\n",
    "axhline(30, ls='-', c='lightgray', lw=3)\n",
    "plot(statemon.t/ms, statemon.v.T/mV, '-')\n",
    "xlabel('Time (ms)')\n",
    "ylabel('v (mV)');\n",
    "\n",
    "# output_rates = spikemon.num_spikes/(run_time*ms)\n",
    "# print(\"avg. network firing rate: \", output_rates)"
   ]
  }
 ],
 "metadata": {
  "kernelspec": {
   "display_name": "brian2",
   "language": "python",
   "name": "brian2"
  },
  "language_info": {
   "codemirror_mode": {
    "name": "ipython",
    "version": 3
   },
   "file_extension": ".py",
   "mimetype": "text/x-python",
   "name": "python",
   "nbconvert_exporter": "python",
   "pygments_lexer": "ipython3",
   "version": "3.6.5"
  }
 },
 "nbformat": 4,
 "nbformat_minor": 2
}
